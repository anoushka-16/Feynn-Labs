{
  "nbformat": 4,
  "nbformat_minor": 0,
  "metadata": {
    "colab": {
      "provenance": []
    },
    "kernelspec": {
      "name": "python3",
      "display_name": "Python 3"
    },
    "language_info": {
      "name": "python"
    }
  },
  "cells": [
    {
      "cell_type": "code",
      "execution_count": null,
      "metadata": {
        "colab": {
          "base_uri": "https://localhost:8080/"
        },
        "id": "cEomBMFHTC_Z",
        "outputId": "89e8b2b6-1e52-4597-cb6b-7feeb70d632a"
      },
      "outputs": [
        {
          "output_type": "stream",
          "name": "stdout",
          "text": [
            "Looking in indexes: https://pypi.org/simple, https://us-python.pkg.dev/colab-wheels/public/simple/\n",
            "Collecting catboost\n",
            "  Downloading catboost-1.1.1-cp39-none-manylinux1_x86_64.whl (76.6 MB)\n",
            "\u001b[2K     \u001b[90m━━━━━━━━━━━━━━━━━━━━━━━━━━━━━━━━━━━━━━━━\u001b[0m \u001b[32m76.6/76.6 MB\u001b[0m \u001b[31m8.9 MB/s\u001b[0m eta \u001b[36m0:00:00\u001b[0m\n",
            "\u001b[?25hRequirement already satisfied: numpy>=1.16.0 in /usr/local/lib/python3.9/dist-packages (from catboost) (1.22.4)\n",
            "Requirement already satisfied: matplotlib in /usr/local/lib/python3.9/dist-packages (from catboost) (3.7.1)\n",
            "Requirement already satisfied: pandas>=0.24.0 in /usr/local/lib/python3.9/dist-packages (from catboost) (1.4.4)\n",
            "Requirement already satisfied: six in /usr/local/lib/python3.9/dist-packages (from catboost) (1.15.0)\n",
            "Requirement already satisfied: graphviz in /usr/local/lib/python3.9/dist-packages (from catboost) (0.10.1)\n",
            "Requirement already satisfied: scipy in /usr/local/lib/python3.9/dist-packages (from catboost) (1.10.1)\n",
            "Requirement already satisfied: plotly in /usr/local/lib/python3.9/dist-packages (from catboost) (5.5.0)\n",
            "Requirement already satisfied: pytz>=2020.1 in /usr/local/lib/python3.9/dist-packages (from pandas>=0.24.0->catboost) (2022.7.1)\n",
            "Requirement already satisfied: python-dateutil>=2.8.1 in /usr/local/lib/python3.9/dist-packages (from pandas>=0.24.0->catboost) (2.8.2)\n",
            "Requirement already satisfied: importlib-resources>=3.2.0 in /usr/local/lib/python3.9/dist-packages (from matplotlib->catboost) (5.12.0)\n",
            "Requirement already satisfied: kiwisolver>=1.0.1 in /usr/local/lib/python3.9/dist-packages (from matplotlib->catboost) (1.4.4)\n",
            "Requirement already satisfied: cycler>=0.10 in /usr/local/lib/python3.9/dist-packages (from matplotlib->catboost) (0.11.0)\n",
            "Requirement already satisfied: pyparsing>=2.3.1 in /usr/local/lib/python3.9/dist-packages (from matplotlib->catboost) (3.0.9)\n",
            "Requirement already satisfied: packaging>=20.0 in /usr/local/lib/python3.9/dist-packages (from matplotlib->catboost) (23.0)\n",
            "Requirement already satisfied: contourpy>=1.0.1 in /usr/local/lib/python3.9/dist-packages (from matplotlib->catboost) (1.0.7)\n",
            "Requirement already satisfied: pillow>=6.2.0 in /usr/local/lib/python3.9/dist-packages (from matplotlib->catboost) (8.4.0)\n",
            "Requirement already satisfied: fonttools>=4.22.0 in /usr/local/lib/python3.9/dist-packages (from matplotlib->catboost) (4.39.0)\n",
            "Requirement already satisfied: tenacity>=6.2.0 in /usr/local/lib/python3.9/dist-packages (from plotly->catboost) (8.2.2)\n",
            "Requirement already satisfied: zipp>=3.1.0 in /usr/local/lib/python3.9/dist-packages (from importlib-resources>=3.2.0->matplotlib->catboost) (3.15.0)\n",
            "Installing collected packages: catboost\n",
            "Successfully installed catboost-1.1.1\n"
          ]
        }
      ],
      "source": [
        "!pip install catboost"
      ]
    },
    {
      "cell_type": "code",
      "source": [
        "import numpy as np\n",
        "import pandas as pd\n",
        "\n",
        "from sklearn.model_selection import train_test_split\n",
        "from sklearn.preprocessing import StandardScaler\n",
        "\n",
        "from sklearn.tree import DecisionTreeRegressor\n",
        "from catboost import CatBoostRegressor\n",
        "\n",
        "import warnings\n",
        "warnings.filterwarnings(action='ignore')"
      ],
      "metadata": {
        "id": "WLpOISiiTTeS"
      },
      "execution_count": null,
      "outputs": []
    },
    {
      "cell_type": "code",
      "source": [
        "path=\"/content/drive/MyDrive/dataset/Vegetable_market.csv\"\n",
        "data=pd.read_csv(path)\n"
      ],
      "metadata": {
        "id": "0mGkI01MTUmy"
      },
      "execution_count": null,
      "outputs": []
    },
    {
      "cell_type": "code",
      "source": [
        "def onehot_encode(df, column):\n",
        "    df = df.copy()\n",
        "    dummies = pd.get_dummies(df[column], prefix=column)\n",
        "    df = pd.concat([df, dummies], axis=1)\n",
        "    df = df.drop(column, axis=1)\n",
        "    return df"
      ],
      "metadata": {
        "id": "PhmLNQTBTZHG"
      },
      "execution_count": null,
      "outputs": []
    },
    {
      "cell_type": "code",
      "source": [
        "def preprocess_inputs(df):\n",
        "    df = df.copy()\n",
        "    \n",
        "    # Clean Vegetable condition column\n",
        "    df['Vegetable condition'] = df['Vegetable condition'].replace({'scarp': 'scrap'})\n",
        "    \n",
        "    # Binary encoding\n",
        "    df['Deasaster Happen in last 3month'] = df['Deasaster Happen in last 3month'].replace({'no': 0, 'yes': 1})\n",
        "\n",
        "     # Ordinal encoding\n",
        "    df['Month'] = df['Month'].replace({\n",
        "        'jan': 1,\n",
        "        'apr': 4,\n",
        "        'july': 7,\n",
        "        'sept': 9,\n",
        "        'oct': 10,\n",
        "        'dec': 12,\n",
        "        'may': 5,\n",
        "        'aug': 8,\n",
        "        'june': 6,\n",
        "        ' ': np.NaN,\n",
        "        'march': 3\n",
        "    })\n",
        "\n",
        "    # Fill missing month values with column mode\n",
        "    df['Month'] = df['Month'].fillna(df['Month'].mode()[0])\n",
        "    \n",
        "    # One-hot encoding\n",
        "    for column in ['Vegetable', 'Season', 'Vegetable condition']:\n",
        "        df = onehot_encode(df, column)\n",
        "    \n",
        "    # Split df into X and y\n",
        "    y = df['Price per kg']\n",
        "    X = df.drop('Price per kg', axis=1)\n",
        "    \n",
        "    # Train-test split\n",
        "    X_train, X_test, y_train, y_test = train_test_split(X, y, train_size=0.7, shuffle=True, random_state=1)\n",
        "\n",
        "    # Scale X\n",
        "    scaler = StandardScaler()\n",
        "    scaler.fit(X_train)\n",
        "    X_train = pd.DataFrame(scaler.transform(X_train), index=X_train.index, columns=X_train.columns)\n",
        "    X_test = pd.DataFrame(scaler.transform(X_test), index=X_test.index, columns=X_test.columns)\n",
        "    \n",
        "    return X_train, X_test, y_train, y_test"
      ],
      "metadata": {
        "id": "1iWHKz-HTgD5"
      },
      "execution_count": null,
      "outputs": []
    },
    {
      "cell_type": "code",
      "source": [
        "X_train, X_test, y_train, y_test = preprocess_inputs(data)"
      ],
      "metadata": {
        "id": "w9UFzzzxxERc"
      },
      "execution_count": null,
      "outputs": []
    },
    {
      "cell_type": "code",
      "source": [
        "from sklearn.tree import DecisionTreeRegressor\n",
        "clf=DecisionTreeRegressor()"
      ],
      "metadata": {
        "id": "rEIJcpePV2bO"
      },
      "execution_count": null,
      "outputs": []
    },
    {
      "cell_type": "code",
      "source": [
        "import sklearn.metrics as metrics\n",
        "clf.fit(X_train,y_train)\n",
        "pred=clf.predict(X_test)\n",
        "print(\"DecisioncTree trained.\")\n"
      ],
      "metadata": {
        "id": "OQvK1QtaV50O",
        "colab": {
          "base_uri": "https://localhost:8080/"
        },
        "outputId": "b0e388c7-524c-4e78-fff8-5467839694f5"
      },
      "execution_count": null,
      "outputs": [
        {
          "output_type": "stream",
          "name": "stdout",
          "text": [
            "DecisioncTree trained.\n"
          ]
        }
      ]
    },
    {
      "cell_type": "code",
      "source": [
        "A=data['Vegetable']"
      ],
      "metadata": {
        "id": "Nlkjp9aJ2XWT"
      },
      "execution_count": null,
      "outputs": []
    },
    {
      "cell_type": "code",
      "source": [
        "f=pd.DataFrame({'Actual':y_test,'Predicted' :pred})"
      ],
      "metadata": {
        "id": "U9tSEfUtV_7N"
      },
      "execution_count": null,
      "outputs": []
    },
    {
      "cell_type": "code",
      "source": [
        "t=f['Predicted']\n",
        "T=f['Actual']"
      ],
      "metadata": {
        "id": "IXGKviIP75-w"
      },
      "execution_count": null,
      "outputs": []
    },
    {
      "cell_type": "code",
      "source": [
        "farmerspay = (70 * t)/100"
      ],
      "metadata": {
        "id": "-uMgj4d98nft"
      },
      "execution_count": null,
      "outputs": []
    },
    {
      "cell_type": "code",
      "source": [
        "retailerspay=(30*t)/100"
      ],
      "metadata": {
        "id": "lyjlZ7WA9N4K"
      },
      "execution_count": null,
      "outputs": []
    },
    {
      "cell_type": "code",
      "source": [
        "H=pd.DataFrame({'Vegetables':A,'Actual Price':T,'Predicted Price':t,'Farmers Pay':farmerspay,'Retailers Pay':retailerspay})"
      ],
      "metadata": {
        "id": "9eV0XyZbUv2Z"
      },
      "execution_count": null,
      "outputs": []
    },
    {
      "cell_type": "code",
      "source": [
        "G=H.dropna()"
      ],
      "metadata": {
        "id": "KlefbWPiWN9V"
      },
      "execution_count": null,
      "outputs": []
    },
    {
      "cell_type": "code",
      "source": [
        "import pandas as pd\n",
        "import matplotlib.pyplot as mp\n",
        "import matplotlib.pyplot as plt"
      ],
      "metadata": {
        "id": "I0ewIXIrt74K"
      },
      "execution_count": null,
      "outputs": []
    },
    {
      "cell_type": "code",
      "source": [
        "DF = pd.DataFrame(G, columns=[\"Vegetables\",\"Actual Price\",\"Predicted Price\",\"Farmers Pay\"])\n",
        " \n",
        "# plot the dataframe\n",
        "DF.plot(x=\"Vegetables\", y=[\"Actual Price\",\"Predicted Price\",\"Farmers Pay\"], kind=\"bar\", figsize=(9, 8))\n",
        "plt.ylabel(\"Prices\")\n",
        "# print bar graph\n",
        "mp.show()"
      ],
      "metadata": {
        "id": "YhMEfa6_WNxi"
      },
      "execution_count": null,
      "outputs": []
    },
    {
      "cell_type": "code",
      "source": [
        "DF = pd.DataFrame(G, columns=[\"Vegetables\",\"Predicted Price\",\"Farmers Pay\",\"Retailers Pay\"])\n",
        " \n",
        "# plot the dataframe\n",
        "DF.plot(x=\"Vegetables\", y=[\"Predicted Price\",\"Farmers Pay\",\"Retailers Pay\"], kind=\"bar\", figsize=(9, 8))\n",
        "plt.ylabel(\"Prices\")\n",
        "# print bar graph\n",
        "mp.show()"
      ],
      "metadata": {
        "id": "lCR8VecF39VN"
      },
      "execution_count": null,
      "outputs": []
    },
    {
      "cell_type": "code",
      "source": [
        "DF = pd.DataFrame(G, columns=[\"Vegetables\",\"Farmers Pay\",\"Retailers Pay\"])\n",
        " \n",
        "# plot the dataframe\n",
        "DF.plot(x=\"Vegetables\", y=[\"Farmers Pay\",\"Retailers Pay\"], kind=\"bar\", figsize=(9, 8))\n",
        "plt.ylabel(\"Prices\")\n",
        "# print bar graph\n",
        "mp.show()"
      ],
      "metadata": {
        "colab": {
          "base_uri": "https://localhost:8080/",
          "height": 564
        },
        "id": "fSh5sy7U4afH",
        "outputId": "85e73a18-5a38-4398-d65b-e266cdaa6b0b"
      },
      "execution_count": null,
      "outputs": [
        {
          "output_type": "display_data",
          "data": {
            "text/plain": [
              "<Figure size 648x576 with 1 Axes>"
            ],
            "image/png": "[encoded data removed]"
          },
          "metadata": {
            "needs_background": "light"
          }
        }
      ]
    }
  ]
}